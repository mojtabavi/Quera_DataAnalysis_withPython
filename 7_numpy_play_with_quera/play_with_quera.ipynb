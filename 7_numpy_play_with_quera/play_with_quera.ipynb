{
 "cells": [
  {
   "cell_type": "markdown",
   "metadata": {},
   "source": [
    "<h1 align=center style=\"line-height:200%;font-family:vazir;color:#0099cc\">\n",
    "<font face=\"vazir\" color=\"#0099cc\">\n",
    "بازی با کوئرا\n",
    "</font>\n",
    "</h1>"
   ]
  },
  {
   "attachments": {},
   "cell_type": "markdown",
   "metadata": {},
   "source": [
    "<p dir=rtl style=\"direction: rtl;text-align: justify;line-height:200%;font-family:vazir;font-size:medium\">\n",
    "<font face=\"vazir\" size=3>\n",
    "     در این قسمت قصد داریم کار با آرایه‌ها‌ی نامپای (<code>numpy</code>) را بیشتر تمرین کنیم. ارتباط عنوان این تمرین با داده‌هایی که در طول تمرین از آن استفاده خواهید کرد را نیز در انتهای نت‌بوک به‌خوبی درک خواهید کرد.\n",
    "        <br>\n",
    "    </font>\n",
    "</p>\n",
    "\n",
    "<h2 align=right style=\"line-height:200%;font-family:vazir;color:#0099cc\">\n",
    "<font face=\"vazir\" color=\"#0099cc\">\n",
    "بخش اول\n",
    "</font>\n",
    "</h2>\n",
    "\n",
    "<p dir=rtl style=\"direction: rtl;text-align: justify;line-height:200%;font-family:vazir;font-size:medium\">\n",
    "<font face=\"vazir\" size=3>\n",
    "        در این تمرین  باید آرایه‌ای با ابعاد <code dir=ltr>(506, 1500, 1)</code> را از فایل <code dir=ltr>data.npz</code> بارگیری کنید و سپس آن را به سه آرایه با ابعاد <code dir=ltr>(506, 500, 1)</code> تقسیم کنید. \n",
    "        یعنی بعد دوم (<code>1500</code>) آرایه‌ی ورودی را به سه قسمت مساوی تقسیم کنید.\n",
    "\n",
    "</font>\n",
    "</p>\n",
    "\n",
    "<center>\n",
    "<div style=\"max-width: 800px\">\n",
    "<img src=\"image1.jpg\">\n",
    "</div>\n",
    "</center>\n",
    "\n",
    "<p dir=rtl style=\"direction: rtl;text-align: justify;line-height:200%;font-family:vazir;font-size:medium\">\n",
    "<font face=\"vazir\" size=3>\n",
    "    همان‌طور که در شکل بالا مشاهده می‌کنید آرایه‌ی ورودی را به سه آرایه با ابعاد <code dir=ltr>(506, 500, 1)</code> تقسیم کرده‌ایم که در کد خود آن‌ها را به‌ترتیب <code>ch1</code>، <code>ch2</code> و <code>ch3</code> می‌نامیم.\n",
    "    <ul dir=rtl>\n",
    "    <li>آرایه‌ی <code>ch1</code> شامل ۵۰۰ تای ابتدایی بعد دوم آرایه ورودی است. </li>\n",
    "    <li>آرایه‌ی <code>ch2</code> شامل ۵۰۰ تای میانی بعد دوم آرایه ورودی است. </li>\n",
    "    <li>آرایه‌ی <code>ch3</code> شامل ۵۰۰ تای نهایی بعد دوم آرایه ورودی است. </li>\n",
    "    </ul>\n",
    " \n",
    "</font>\n",
    "</p>\n",
    "\n",
    "<p dir=rtl style=\"direction: rtl;text-align: justify;line-height:200%;font-family:vazir;font-size:medium\">\n",
    "<font face=\"vazir\" size=3>\n",
    "    داده‌های موردنیاز برای مسئله را می‌توان به کمک تابع <code>load</code> از روی فایل خواند. خروجی تابع <code>load</code> همانند یک دیکشنری است که با کلید <code>data</code> می‌توان داده‌های اصلی موردنیاز را استخراج کرد.\n",
    "  پس از اجرای دو سلول زیر، آرایه‌ای با ابعاد <code dir=ltr>(506, 1500, 1)</code> در متغیر <code>data</code> ذخیره شده است و می‌توانید حل مسئله را شروع کنید.\n",
    " \n",
    "</font>\n",
    "</p>"
   ]
  },
  {
   "cell_type": "code",
   "execution_count": null,
   "metadata": {
    "id": "ddU9LZWUEiAd"
   },
   "outputs": [],
   "source": [
    "import numpy as np"
   ]
  },
  {
   "cell_type": "code",
   "execution_count": null,
   "metadata": {
    "colab": {
     "base_uri": "https://localhost:8080/"
    },
    "id": "7reDRLLz0Nek",
    "outputId": "7d1e86c3-7422-4a8b-b55f-d9629a08fb95"
   },
   "outputs": [],
   "source": [
    "npz_file = np.load('./data.npz')\n",
    "data = npz_file['data']\n",
    "print(type(data))\n",
    "print(data.shape)"
   ]
  },
  {
   "cell_type": "code",
   "execution_count": null,
   "metadata": {
    "id": "xAPu3ziE01Zl"
   },
   "outputs": [],
   "source": [
    "ch1 = None # To-Do\n",
    "ch2 = None # To-Do\n",
    "ch3 = None # To-Do"
   ]
  },
  {
   "attachments": {},
   "cell_type": "markdown",
   "metadata": {},
   "source": [
    "\n",
    "<h2 align=right style=\"line-height:200%;font-family:vazir;color:#0099cc\">\n",
    "<font face=\"vazir\" color=\"#0099cc\">\n",
    "بخش دوم\n",
    "</font>\n",
    "</h2>\n",
    "\n",
    "<p dir=rtl style=\"direction: rtl;text-align: justify;line-height:200%;font-family:vazir;font-size:medium\">\n",
    "<font face=\"vazir\" size=3>\n",
    "       اکنون همانند شکل زیر، سه آرایه‌ی <code>ch2</code>، <code>ch1</code> و <code>ch3</code> (به ترتیب از ۱ تا ۳) را روی محور سوم (<code>axis=2</code>) به هم متصل (<code>concatenate</code>) کنید و نتیجه را در آرایه‌ای به نام <code>final_data</code> ذخیره کنید.\n",
    "</font>\n",
    "</p>\n",
    "\n",
    "<center>\n",
    "<div style=\"max-width: 800px\">\n",
    "<img src=\"image2.jpg\">\n",
    "</div>\n",
    "</center>"
   ]
  },
  {
   "cell_type": "code",
   "execution_count": null,
   "metadata": {},
   "outputs": [],
   "source": [
    "final_data = None # To-Do"
   ]
  },
  {
   "attachments": {},
   "cell_type": "markdown",
   "metadata": {
    "id": "J-AmCIRGHVpP"
   },
   "source": [
    "<h2 align=right style=\"line-height:200%;font-family:vazir;color:#0099cc\">\n",
    "<font face=\"vazir\" color=\"#0099cc\">\n",
    "بررسی بیشتر\n",
    "</font>\n",
    "</h2>\n",
    "\n",
    "\n",
    "<p dir=rtl style=\"direction: rtl;text-align: justify;line-height:200%;font-family:vazir;font-size:medium\">\n",
    "<font face=\"vazir\" size=3>\n",
    "در این تمرین سه آرایه‌ای که متصل‌شان کردید،  در حقیقت سه کانال رنگی از تصویر لوگوی کوئرا بود.\n",
    "یعنی شما با <code>concatenate</code> کردن این سه آرایه، سه کانال رنگی را با هم ترکیب کرده و لوگو با رنگ اصلی را درست کردید.\n",
    "<br>\n",
    "با اجرای سلول‌های زیر می‌توانید تصویر مربوط به هر کانال رنگی و نهایتاً تصویر ساخته‌شده به کمک ترکیب آن‌ها را مشاهده کنید.\n",
    "رسم تصویر این آرایه‌ها به کمک کتابخانه‌ی <code>matplotlib</code> انجام گرفته، با این حال اصلاً انتظار نمی‌رود با توابعی که نوشته شده آشنا باشید و قرار است با این کتابخانه در فصل‌های بعدی به‌صورت کامل آشنا شوید.\n",
    "</font>\n",
    "</p>"
   ]
  },
  {
   "cell_type": "code",
   "execution_count": null,
   "metadata": {
    "colab": {
     "base_uri": "https://localhost:8080/",
     "height": 182
    },
    "id": "J4BG5so1Wjs7",
    "outputId": "c212eb7a-4f98-4afe-fd7b-1293df9e5e8f"
   },
   "outputs": [],
   "source": [
    "import matplotlib.pyplot as plt \n",
    "\n",
    "plt.imshow(data[:,:,0])"
   ]
  },
  {
   "cell_type": "code",
   "execution_count": null,
   "metadata": {
    "colab": {
     "base_uri": "https://localhost:8080/",
     "height": 286
    },
    "id": "EnpL7naPWtxG",
    "outputId": "4468b410-30bf-465b-9adb-92ad53781bd8"
   },
   "outputs": [],
   "source": [
    "plt.imshow(ch1[:,:,0])"
   ]
  },
  {
   "cell_type": "code",
   "execution_count": null,
   "metadata": {
    "colab": {
     "base_uri": "https://localhost:8080/",
     "height": 286
    },
    "id": "HLTNyGlWWv44",
    "outputId": "e030a6e3-0c59-4f88-a046-51b8d53bb9c2"
   },
   "outputs": [],
   "source": [
    "plt.imshow(ch2[:,:,0])"
   ]
  },
  {
   "cell_type": "code",
   "execution_count": null,
   "metadata": {
    "colab": {
     "base_uri": "https://localhost:8080/",
     "height": 286
    },
    "id": "Y02gn44lWyX-",
    "outputId": "82062f49-4d69-41d6-9a09-f70a0d83b9f7"
   },
   "outputs": [],
   "source": [
    "plt.imshow(ch3[:,:,0])"
   ]
  },
  {
   "cell_type": "code",
   "execution_count": null,
   "metadata": {
    "colab": {
     "base_uri": "https://localhost:8080/",
     "height": 286
    },
    "id": "YEvazO3ZWz1X",
    "outputId": "e07d2669-e2f8-43ff-c722-ea07512cf86c"
   },
   "outputs": [],
   "source": [
    "plt.imshow(final_data)"
   ]
  },
  {
   "attachments": {},
   "cell_type": "markdown",
   "metadata": {},
   "source": [
    "<h2 align=right style=\"line-height:200%;font-family:vazir;color:#0099cc\">\n",
    "<font face=\"vazir\" color=\"#0099cc\">\n",
    "<b>سلول جواب‌ساز</b>\n",
    "</font>\n",
    "</h2>\n",
    "\n",
    "<p dir=rtl style=\"direction: rtl; text-align: justify; line-height:200%; font-family:vazir; font-size:medium\">\n",
    "<font face=\"vazir\" size=3>\n",
    "    با محاسبه‌ی صحیح آرایه‌ی <code>final_data</code> مسئله به اتمام رسیده و می‌توانید فایل پاسخ خود را بسازید.\n",
    "    با این حال، اگر دوست دارید بدانید کاربرد این تمرین چه بوده و شما دقیقاً چه کاری انجام دادید می‌توانید سلول‌های بعدی را نیز بررسی کنید.\n",
    "</font>\n",
    "</p>\n",
    "\n",
    "<p dir=rtl style=\"direction: rtl; text-align: justify; line-height:200%; font-family:vazir; font-size:medium\">\n",
    "<font face=\"vazir\" size=3>\n",
    "    برای ساخته‌شدن فایل <code>result.zip</code> سلول زیر را اجرا کنید. توجه داشته باشید که پیش از اجرای سلول زیر تغییرات اعمال شده در نت‌بوک را ذخیره کرده باشید (<code>ctrl+s</code>) تا در صورت نیاز به پشتیبانی امکان بررسی کد شما وجود داشته باشد.\n",
    "</font>\n",
    "</p>"
   ]
  },
  {
   "cell_type": "code",
   "execution_count": null,
   "metadata": {},
   "outputs": [],
   "source": [
    "import zipfile\n",
    "import joblib\n",
    "\n",
    "np.savez('./submission.npz', final_data=final_data, ch1=ch1, ch2=ch2, ch3=ch3)\n",
    "\n",
    "def compress(file_names):\n",
    "    print(\"File Paths:\")\n",
    "    print(file_names)\n",
    "    compression = zipfile.ZIP_DEFLATED\n",
    "    with zipfile.ZipFile(\"result.zip\", mode=\"w\") as zf:\n",
    "        for file_name in file_names:\n",
    "            zf.write('./' + file_name, file_name, compress_type=compression)\n",
    "\n",
    "file_names = [\"submission.npz\", \"play_with_quera.ipynb\"]\n",
    "compress(file_names)"
   ]
  }
 ],
 "metadata": {
  "colab": {
   "collapsed_sections": [],
   "name": "exercise1.ipynb",
   "provenance": []
  },
  "kernelspec": {
   "display_name": "quera",
   "language": "python",
   "name": "python3"
  },
  "language_info": {
   "codemirror_mode": {
    "name": "ipython",
    "version": 3
   },
   "file_extension": ".py",
   "mimetype": "text/x-python",
   "name": "python",
   "nbconvert_exporter": "python",
   "pygments_lexer": "ipython3",
   "version": "3.9.7 (default, Sep 16 2021, 16:59:28) [MSC v.1916 64 bit (AMD64)]"
  },
  "vscode": {
   "interpreter": {
    "hash": "6a29b8f2e1e8b11f80c3820468461bcdbea6564508a235f61a46eeb59d48b308"
   }
  }
 },
 "nbformat": 4,
 "nbformat_minor": 2
}
