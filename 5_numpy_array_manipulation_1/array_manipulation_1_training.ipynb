{
 "cells": [
  {
   "cell_type": "code",
   "execution_count": 2,
   "id": "b25c7b01-bcc7-438a-aad1-f70ce3378ec5",
   "metadata": {
    "tags": []
   },
   "outputs": [],
   "source": [
    "import numpy as np"
   ]
  },
  {
   "cell_type": "code",
   "execution_count": 6,
   "id": "b8fe2394-5b69-4c1c-bb70-8d5bc73e9d60",
   "metadata": {
    "tags": []
   },
   "outputs": [
    {
     "name": "stdout",
     "output_type": "stream",
     "text": [
      "[[68 74 75 35  0 17 42  5 61 21]\n",
      " [27 39 16 14 25 57 82 34 91 25]\n",
      " [26 30 72 66 48 44 25 76 86 71]\n",
      " [86 18 88  5 64 27 24 97 18 36]\n",
      " [37 98 99  6 20 34 60 90 52 43]]\n"
     ]
    }
   ],
   "source": [
    "a = np.random.randint(0,100,(5,10))\n",
    "print(a)"
   ]
  },
  {
   "cell_type": "code",
   "execution_count": 7,
   "id": "5b2e1618-357c-4cfa-bc8d-64590522403e",
   "metadata": {
    "tags": []
   },
   "outputs": [
    {
     "data": {
      "text/plain": [
       "66"
      ]
     },
     "execution_count": 7,
     "metadata": {},
     "output_type": "execute_result"
    }
   ],
   "source": [
    "a[2,3]"
   ]
  },
  {
   "cell_type": "code",
   "execution_count": 12,
   "id": "78ad7feb-df21-4dd5-a13e-7208ce6ccfa3",
   "metadata": {
    "tags": []
   },
   "outputs": [
    {
     "name": "stdout",
     "output_type": "stream",
     "text": [
      "[0 1 2]\n",
      "[3 4 5]\n",
      "[5 4 3 2 1 0]\n"
     ]
    }
   ],
   "source": [
    "a = np.array([0,1,2,3,4,5])\n",
    "print(a[:3])\n",
    "print(a[3:])\n",
    "print(a[::-1])"
   ]
  },
  {
   "cell_type": "code",
   "execution_count": null,
   "id": "192a690e-b3ca-4829-824c-1ea40052e78f",
   "metadata": {},
   "outputs": [],
   "source": []
  }
 ],
 "metadata": {
  "kernelspec": {
   "display_name": "Python 3 (ipykernel)",
   "language": "python",
   "name": "python3"
  },
  "language_info": {
   "codemirror_mode": {
    "name": "ipython",
    "version": 3
   },
   "file_extension": ".py",
   "mimetype": "text/x-python",
   "name": "python",
   "nbconvert_exporter": "python",
   "pygments_lexer": "ipython3",
   "version": "3.11.5"
  }
 },
 "nbformat": 4,
 "nbformat_minor": 5
}
